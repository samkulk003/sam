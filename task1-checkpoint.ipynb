{
 "cells": [
  {
   "cell_type": "code",
   "execution_count": 1,
   "id": "a95327ea",
   "metadata": {},
   "outputs": [],
   "source": [
    "modern_family = ['CLaiRe_DunPhY', 'PHiL_dUnpHY', 'GLoRiA_PriTCheTt', 'CaMErOn_TuCKEr',\n",
    "'StELLa']"
   ]
  },
  {
   "cell_type": "code",
   "execution_count": 2,
   "id": "513cb768",
   "metadata": {},
   "outputs": [
    {
     "name": "stdout",
     "output_type": "stream",
     "text": [
      "[(0, 'CLaiRe_DunPhY'), (1, 'PHiL_dUnpHY'), (2, 'GLoRiA_PriTCheTt'), (3, 'CaMErOn_TuCKEr'), (4, 'StELLa')]\n"
     ]
    },
    {
     "data": {
      "text/plain": [
       "5"
      ]
     },
     "execution_count": 2,
     "metadata": {},
     "output_type": "execute_result"
    }
   ],
   "source": [
    "l1=enumerate(modern_family)\n",
    "l1=list(l1)\n",
    "print(l1)\n",
    "len(l1)"
   ]
  },
  {
   "cell_type": "code",
   "execution_count": 3,
   "id": "34f1f3f6",
   "metadata": {},
   "outputs": [
    {
     "name": "stdout",
     "output_type": "stream",
     "text": [
      "[0, 1, 2, 3, 4]\n",
      "['CLaiRe_DunPhY', 'PHiL_dUnpHY', 'GLoRiA_PriTCheTt', 'CaMErOn_TuCKEr', 'StELLa']\n"
     ]
    }
   ],
   "source": [
    "indices=[]\n",
    "characters=[]\n",
    "for k,v in enumerate(modern_family):\n",
    "    indices.append(k)\n",
    "    characters.append(v)\n",
    "print(indices)\n",
    "print(characters)    "
   ]
  },
  {
   "cell_type": "code",
   "execution_count": 4,
   "id": "ec63e69f",
   "metadata": {},
   "outputs": [
    {
     "name": "stdout",
     "output_type": "stream",
     "text": [
      "['CLaiRe_DunPhY', 'PHiL_dUnpHY', 'GLoRiA_PriTCheTt', 'CaMErOn_TuCKEr', 'StELLa']\n",
      "['claire-dunphy', 'phil-dunphy', 'gloria-pritchett', 'cameron-tucker', 'stella']\n"
     ]
    }
   ],
   "source": [
    "print(characters)\n",
    "for i in range(len(characters)):\n",
    "    characters[i] = characters[i].lower()\n",
    "    characters[i] = characters[i].replace('_','-')\n",
    "print(characters)\n"
   ]
  },
  {
   "cell_type": "code",
   "execution_count": 5,
   "id": "01304131",
   "metadata": {},
   "outputs": [
    {
     "name": "stdout",
     "output_type": "stream",
     "text": [
      "['claire-dunphy', 'phil-dunphy', 'gloria-pritchett', 'cameron-tucker', 'stella']\n",
      "5\n"
     ]
    }
   ],
   "source": [
    "print(characters)\n",
    "l=lambda y:len(y)\n",
    "print(l(characters))\n"
   ]
  },
  {
   "cell_type": "code",
   "execution_count": 6,
   "id": "57b674c5",
   "metadata": {},
   "outputs": [
    {
     "name": "stdout",
     "output_type": "stream",
     "text": [
      "<map object at 0x000002BE7FD575B0>\n",
      "[13, 11, 16, 14, 6]\n"
     ]
    }
   ],
   "source": [
    "temp=[]\n",
    "m=map(lambda y:len(y),characters)\n",
    "temp=list(m)\n",
    "print(m)\n",
    "print(temp)\n"
   ]
  },
  {
   "cell_type": "code",
   "execution_count": 7,
   "id": "1ad9dc12",
   "metadata": {},
   "outputs": [
    {
     "name": "stdout",
     "output_type": "stream",
     "text": [
      "[(0, 13), (1, 11), (2, 16), (3, 14), (4, 6)]\n"
     ]
    }
   ],
   "source": [
    "n=zip(indices,temp)\n",
    "x=list(n)\n",
    "print(x)\n",
    "\n"
   ]
  },
  {
   "cell_type": "code",
   "execution_count": 8,
   "id": "e99f1e01",
   "metadata": {},
   "outputs": [
    {
     "data": {
      "text/plain": [
       "11"
      ]
     },
     "execution_count": 8,
     "metadata": {},
     "output_type": "execute_result"
    }
   ],
   "source": [
    "x[1][1]"
   ]
  },
  {
   "cell_type": "code",
   "execution_count": 9,
   "id": "fca4ef9b",
   "metadata": {},
   "outputs": [
    {
     "name": "stdout",
     "output_type": "stream",
     "text": [
      "[13, 12, 18, 17, 10]\n"
     ]
    }
   ],
   "source": [
    "indices=[sum(i) for i in x]\n",
    "print(indices)"
   ]
  },
  {
   "cell_type": "code",
   "execution_count": 10,
   "id": "822372bd",
   "metadata": {},
   "outputs": [
    {
     "name": "stdout",
     "output_type": "stream",
     "text": [
      "[18, 17, 13, 12, 10]\n"
     ]
    }
   ],
   "source": [
    "indices.sort(reverse=True)\n",
    "print(indices)"
   ]
  },
  {
   "cell_type": "code",
   "execution_count": 11,
   "id": "290d98f6",
   "metadata": {},
   "outputs": [
    {
     "name": "stdout",
     "output_type": "stream",
     "text": [
      "[18, 17, 13, 12, 10]\n",
      "['claire-dunphy', 'phil-dunphy', 'gloria-pritchett', 'cameron-tucker', 'stella']\n",
      "{18: 'claire-dunphy', 17: 'phil-dunphy', 13: 'gloria-pritchett', 12: 'cameron-tucker', 10: 'stella'}\n"
     ]
    }
   ],
   "source": [
    "print(indices)\n",
    "print(characters)\n",
    "p=zip(indices,characters)\n",
    "z=list(p)\n",
    "Phew_finally=dict(z)\n",
    "print(Phew_finally)"
   ]
  },
  {
   "cell_type": "code",
   "execution_count": 12,
   "id": "dac84311",
   "metadata": {},
   "outputs": [],
   "source": [
    "'''Observe the given list carefully and using only list slicing, create a list named 'next_game'\n",
    "which contains all 'green_light' elements from the given list. Make sure you don’t accidentally\n",
    "include the others!'''\n",
    "\n",
    "creepy_doll = ['red_light', 'green_light', 'red_light', 'you_got_shot', 'green_light', 'you_got_shot',\n",
    "'you_got_shot', 'green_light', 'you_ got_shot', 'red_light', 'green_light', 'red_light', 'you_got_shot',\n",
    "'green_light','red_light', 'red_light', 'green_light', 'you_got_shot','red_light', 'you_got_shot']"
   ]
  },
  {
   "cell_type": "code",
   "execution_count": 13,
   "id": "01228e4b",
   "metadata": {},
   "outputs": [
    {
     "name": "stdout",
     "output_type": "stream",
     "text": [
      "['green_light', 'green_light', 'green_light', 'green_light', 'green_light', 'green_light', 'red_light', 'red_light', 'red_light', 'red_light', 'red_light', 'red_light', 'red_light', 'you_ got_shot', 'you_got_shot', 'you_got_shot', 'you_got_shot', 'you_got_shot', 'you_got_shot', 'you_got_shot']\n"
     ]
    },
    {
     "data": {
      "text/plain": [
       "20"
      ]
     },
     "execution_count": 13,
     "metadata": {},
     "output_type": "execute_result"
    }
   ],
   "source": [
    "creepy_doll.sort()\n",
    "print(creepy_doll)\n",
    "len(creepy_doll)"
   ]
  },
  {
   "cell_type": "code",
   "execution_count": 14,
   "id": "d569ea96",
   "metadata": {},
   "outputs": [
    {
     "data": {
      "text/plain": [
       "0"
      ]
     },
     "execution_count": 14,
     "metadata": {},
     "output_type": "execute_result"
    }
   ],
   "source": [
    "index = creepy_doll.index('green_light')\n",
    "index"
   ]
  },
  {
   "cell_type": "code",
   "execution_count": 15,
   "id": "c7edfc18",
   "metadata": {},
   "outputs": [
    {
     "name": "stdout",
     "output_type": "stream",
     "text": [
      "['you_got_shot', 'you_got_shot', 'you_got_shot', 'you_got_shot', 'you_got_shot', 'you_got_shot', 'you_ got_shot', 'red_light', 'red_light', 'red_light', 'red_light', 'red_light', 'red_light', 'red_light', 'green_light', 'green_light', 'green_light', 'green_light', 'green_light', 'green_light']\n"
     ]
    }
   ],
   "source": [
    "creepy_doll.sort(reverse=True)\n",
    "print(creepy_doll)"
   ]
  },
  {
   "cell_type": "code",
   "execution_count": 16,
   "id": "fee07706",
   "metadata": {},
   "outputs": [
    {
     "data": {
      "text/plain": [
       "14"
      ]
     },
     "execution_count": 16,
     "metadata": {},
     "output_type": "execute_result"
    }
   ],
   "source": [
    "index = creepy_doll.index('green_light')\n",
    "index"
   ]
  },
  {
   "cell_type": "code",
   "execution_count": 17,
   "id": "4ba61c71",
   "metadata": {},
   "outputs": [
    {
     "name": "stdout",
     "output_type": "stream",
     "text": [
      "['you_got_shot', 'you_got_shot', 'you_got_shot', 'you_got_shot', 'you_got_shot', 'you_got_shot']\n"
     ]
    },
    {
     "data": {
      "text/plain": [
       "6"
      ]
     },
     "execution_count": 17,
     "metadata": {},
     "output_type": "execute_result"
    }
   ],
   "source": [
    "next_game=creepy_doll[0:6]\n",
    "print(next_game)\n",
    "len(next_game)\n"
   ]
  },
  {
   "cell_type": "markdown",
   "id": "3cda646d",
   "metadata": {},
   "source": [
    "###  task 1.3 \n"
   ]
  },
  {
   "cell_type": "code",
   "execution_count": 25,
   "id": "625a283a",
   "metadata": {},
   "outputs": [
    {
     "name": "stdout",
     "output_type": "stream",
     "text": [
      "enter name of the titant1\n",
      "enter height of the titan12\n",
      "enter strength of the titan25\n",
      "enter name of the scouts1\n",
      "enter strength of the scout12\n",
      " wins t1\n",
      "enter name of the titan2t3\n",
      "enter strength of the titan21\n",
      " wins t1\n",
      "wninning streak of titan1 is  2\n"
     ]
    },
    {
     "data": {
      "text/plain": [
       "2"
      ]
     },
     "execution_count": 25,
     "metadata": {},
     "output_type": "execute_result"
    }
   ],
   "source": [
    "class Titandex:\n",
    "    #ws=0\n",
    "    def __init__(s):\n",
    "        s.n1=input(\"enter name of the titan\")\n",
    "        s.h=input(\"enter height of the titan\")\n",
    "        s.st=input(\"enter strength of the titan\")\n",
    "        s.ws=0\n",
    "    def __TitanvsScout__(s):\n",
    "        s.n=input(\"enter name of the scout\")\n",
    "        s.ss=input(\"enter strength of the scout\")\n",
    "        if(s.st>s.ss):\n",
    "            print(\" wins\",s.n1)\n",
    "            s.ws+=1\n",
    "        elif(s.st<s.ss):\n",
    "            print(\" wins\",s.n)\n",
    "            s.ws=0\n",
    "        else:\n",
    "            print(\"match draw\")\n",
    "            s.ws=0\n",
    "    def __Titanvstitan__(s):\n",
    "        s.n2=input(\"enter name of the titan2\")\n",
    "        if(s.n1==s.n2):\n",
    "            s.n2=input(\"enter another titan\")\n",
    "        else:\n",
    "            s.st2=input(\"enter strength of the titan2\")\n",
    "            if(s.st>s.st2):\n",
    "                print(\" wins\",s.n1)\n",
    "                s.ws+=1\n",
    "            elif(s.st<s.st2):\n",
    "                print(\" wins\",s.n2)\n",
    "                s.ws=0\n",
    "                \n",
    "            else:\n",
    "                print(\"match draw\")\n",
    "                s.ws=0\n",
    "                    \n",
    "                   \n",
    "                    \n",
    "                    \n",
    "    def __display__(s):\n",
    "        print(\"wninning streak of titan1 is \",s.ws)\n",
    "        return(s.ws)\n",
    "\n",
    "obj=Titandex()\n",
    "#obj.__init__()\n",
    "obj. __TitanvsScout__()\n",
    "obj.__Titanvstitan__()\n",
    "obj.__display__()\n",
    "                   \n",
    "               \n",
    "           \n",
    "        "
   ]
  },
  {
   "cell_type": "code",
   "execution_count": 24,
   "id": "904db915",
   "metadata": {},
   "outputs": [
    {
     "name": "stdout",
     "output_type": "stream",
     "text": [
      " name  sam\n"
     ]
    }
   ],
   "source": [
    "s='sam'\n",
    "print(' name ',s)"
   ]
  },
  {
   "cell_type": "code",
   "execution_count": null,
   "id": "30c0df8d",
   "metadata": {},
   "outputs": [],
   "source": []
  },
  {
   "cell_type": "code",
   "execution_count": null,
   "id": "336ac028",
   "metadata": {},
   "outputs": [],
   "source": []
  },
  {
   "cell_type": "code",
   "execution_count": null,
   "id": "a34a8fd4",
   "metadata": {},
   "outputs": [],
   "source": []
  },
  {
   "cell_type": "code",
   "execution_count": null,
   "id": "abf7fb92",
   "metadata": {},
   "outputs": [],
   "source": []
  },
  {
   "cell_type": "code",
   "execution_count": null,
   "id": "b3a52fff",
   "metadata": {},
   "outputs": [],
   "source": []
  },
  {
   "cell_type": "code",
   "execution_count": null,
   "id": "0998cdd3",
   "metadata": {},
   "outputs": [],
   "source": []
  },
  {
   "cell_type": "code",
   "execution_count": null,
   "id": "c9adbd54",
   "metadata": {},
   "outputs": [],
   "source": []
  }
 ],
 "metadata": {
  "kernelspec": {
   "display_name": "Python 3 (ipykernel)",
   "language": "python",
   "name": "python3"
  },
  "language_info": {
   "codemirror_mode": {
    "name": "ipython",
    "version": 3
   },
   "file_extension": ".py",
   "mimetype": "text/x-python",
   "name": "python",
   "nbconvert_exporter": "python",
   "pygments_lexer": "ipython3",
   "version": "3.9.12"
  }
 },
 "nbformat": 4,
 "nbformat_minor": 5
}
